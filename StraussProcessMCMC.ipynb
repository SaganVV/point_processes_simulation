{
 "nbformat": 4,
 "nbformat_minor": 0,
 "metadata": {
  "colab": {
   "provenance": []
  },
  "kernelspec": {
   "name": "python3",
   "display_name": "Python 3"
  },
  "language_info": {
   "name": "python"
  }
 },
 "cells": [
  {
   "cell_type": "markdown",
   "source": [
    "\\section*{Strauss Process and Simulation via Metropolis--Hastings}\n",
    "\n",
    "The Strauss process on a set $E$ is a finite point process with density\n",
    "$$\n",
    "p(x) \\propto \\beta^{x(E)} \\, \\gamma^{S(x)}\n",
    "$$\n",
    "with respect to the standard Poisson process. Here $S(x)$ denotes the number of pairs of points in realization $x$ whose distance is less than $R$.\n",
    "\n",
    "For simulation we use the Metropolis--Hastings algorithm with birth, death, and migration moves.  \n",
    "Let $0 \\leq q < 1$ and let the current state of the algorithm be\n",
    "$$\n",
    "x = \\{\\xi_1, \\dots, \\xi_n\\}.\n",
    "$$\n",
    "\n",
    "\\paragraph{Migration step.}  \n",
    "With probability $q$ we propose a migration of one point: generate\n",
    "$$\n",
    "i \\sim \\text{Uniform}(\\{1, \\dots, n\\}),\n",
    "$$\n",
    "then draw $\\xi$ from density $q_i(x,\\cdot)$, and form the proposed new state\n",
    "$$\n",
    "y = (x \\setminus \\{\\xi_i\\}) \\cup \\{\\xi\\}.\n",
    "$$\n",
    "The acceptance probability is\n",
    "$$\n",
    "\\min \\left( 1, h(x,\\xi) \\right), \\quad \\text{where} \\quad\n",
    "h(x,\\xi) = \\frac{p\\big((x\\setminus\\{\\xi_i\\}) \\cup \\{\\xi\\}\\big)}{p(x)}\n",
    "\\, \\frac{q_i(y,\\xi_i)}{q_i(x,\\xi)}.\n",
    "$$\n",
    "\n",
    "With probability $1-q$ we instead perform a Metropolis--Hastings step of birth and death."
   ],
   "metadata": {
    "id": "Vn-gqjAserVc"
   }
  },
  {
   "cell_type": "markdown",
   "source": [
    "Algorithm Metropolis--Hastings Birth--Death Algorithm\n",
    "\n",
    "For $t = 0, 1, \\dots$ and given $X_t = x \\in \\mathbb{N}$, generate $X_{t+1}$ as follows:\n",
    "\n",
    "\n",
    "1.   With probability $Q(x)$, propose the addition of a point $u$ with density $b(x,u)$ with respect to the base measure. With probability $1 - Q(x)$, propose the removal of a point $v \\in x$ with probability $d(x,v)$.\n",
    "2. Accept the proposal (that is, set $X_{t+1} = x \\cup \\{u\\}$ or $X_{t+1} = x \\setminus \\{v\\}$) with probability\n",
    " $$\n",
    "\\alpha(x, x \\cup \\{u\\}) = \\min\\bigl(1, h(x,u)\\bigr),\n",
    "  \\qquad\n",
    "  \\alpha(x \\cup \\{u\\}, x) = \\min\\left(1, \\frac{1}{h(x,u)}\\right),\n",
    "   $$\n",
    "   where\n",
    "   $$\n",
    "   h(x,u) = \\frac{p(x \\cup \\{u\\})}{p(x)} \\cdot \\frac{1 - Q(x \\cup \\{u\\})}{Q(x)} \\cdot \\frac{d(x \\cup \\{u\\}, u)}{b(x,u)}.\n",
    "   $$\n",
    "3. If the proposal is rejected, set $X_{t+1} = x$."
   ],
   "metadata": {
    "id": "mIbF3E_fbJxI"
   }
  },
  {
   "metadata": {},
   "cell_type": "markdown",
   "source": [
    "Let $E$ be the state space and $\\mathcal{N}_f(E)$ the space of finite point configurations, identified with finite counting measures. For $x \\in \\mathcal{N}_f(E)$, write $x(E)$ for the total number of points and $x(du)$ for the counting measure induced by $x$ (so $\\int_E f(u)\\,x(du)=\\sum_{u\\in x} f(u)$). Let $\\delta_u$ denote the Dirac mass at $u\\in E$, $\\delta_x$ the Dirac mass at the configuration $x$, and $\\Lambda$ the intensity measure on $E$. Indicators are written $1_A(\\cdot)$.\n",
    "\n",
    "Conditional on selecting a **birth** move, the (conditional) transition kernel is\n",
    "$$\n",
    "P_{\\text{birth}}(x, A)\n",
    "= \\int_E 1_A\\!\\bigl(x+\\delta_u\\bigr)\\,\\alpha\\bigl(x, x+\\delta_u\\bigr)\\,b(x,u)\\,\\Lambda(du)\n",
    "\\;+\\;\n",
    "\\delta_x(A)\\left(1-\\int_E \\alpha\\bigl(x, x+\\delta_u\\bigr)\\,b(x,u)\\,\\Lambda(du)\\right),\n",
    "$$\n",
    "where $b(x,\\cdot)$ is a probability density on $E$ w.r.t.\\ $\\Lambda$ and $\\alpha\\in[0,1]$ is the usual MH acceptance probability.\n",
    "\n",
    "Conditional on selecting a **death** move, the kernel is\n",
    "$$\n",
    "P_{\\text{death}}(x, A)\n",
    "= \\int_E 1_A\\!\\bigl(x-\\delta_u\\bigr)\\,\\alpha\\bigl(x, x-\\delta_u\\bigr)\\,d(x,u)\\,x(du)\n",
    "\\;+\\;\n",
    "\\delta_x(A)\\left(1-\\int_E \\alpha\\bigl(x, x-\\delta_u\\bigr)\\,d(x,u)\\,x(du)\\right),\n",
    "$$\n",
    "where $d(x,\\cdot)$ is a probability mass function on the support of $x$, i.e., a density w.r.t. $x(du)$.\n",
    "\n",
    "Conditional on selecting a **migration** move and then choosing index $i\\in\\{1,\\dots,x(E)\\}$, the kernel is\n",
    "$$\n",
    "P_{\\text{migration}}(i, x, A)\n",
    "= \\int_E 1_A\\!\\bigl(x-\\delta_{x_i}+\\delta_u\\bigr)\\,\n",
    "\\alpha_i\\bigl(x, x-\\delta_{x_i}+\\delta_u\\bigr)\\,q_i(x,u)\\,\\Lambda(du)\n",
    "\\;+\\;\n",
    "\\delta_x(A)\\left(1-\\int_E \\alpha_i\\bigl(x, x-\\delta_{x_i}+\\delta_u\\bigr)\\,q_i(x,u)\\,\\Lambda(du)\\right),\n",
    "$$\n",
    "where $q_i(x,\\cdot)$ is a probability density on $E$ w.r.t. $\\Lambda$.\n",
    "\n",
    "Aggregating over the choice of which point migrates gives the (conditional) migration kernel\n",
    "$$\n",
    "P_{\\text{migration}}(x, A) \\;=\\;\n",
    "\\begin{cases}\n",
    "\\displaystyle \\sum_{i=1}^{x(E)} p_i(x)\\,P_{\\text{migration}}(i, x, A), & \\text{if } x(E)\\ge 1,\\\\[1ex]\n",
    "\\delta_x(A), & \\text{if } x(E)=0,\n",
    "\\end{cases}\n",
    "$$\n",
    "where $p_i(x)$ is the probability of choosing the $i$th point (in our setting, $p_i(x)=1/x(E)$).\n",
    "\n",
    "Finally, mixing the move types yields the full transition kernel\n",
    "$$\n",
    "P(x, A)\n",
    "= \\sum_{\\text{state}\\in\\{\\text{birth},\\text{death},\\text{migration}\\}}\n",
    "Q_{\\text{state}}(x)\\,P_{\\text{state}}(x, A),\n",
    "$$\n",
    "where $Q_{\\text{state}}(x)\\in[0,1]$ are the probabilities of selecting each move type and\n",
    "$\\sum_{\\text{state}} Q_{\\text{state}}(x)=1$."
   ]
  },
  {
   "metadata": {
    "id": "QocyaYlc1DpT"
   },
   "cell_type": "markdown",
   "source": "In the settings of the task, we have $Q_{\\text{state}}(x)$ is uniformly distributed on the space of states $S=\\{\\text{birth},\\text{death},\\text{migration}\\}$, i.e. for each $\\text{state} \\in S$ we have $Q_{\\text{state}}(x) = \\frac{1}{3}$. Also we have $q_i(x, \\dot) = \\frac{1}{\\Lambda(E)} \\forall i \\in \\{1, \\dots, x(E)\\}$, i.e. independently on which point to change is chosen, a candidate is uniformly sampled on E."
  }
 ]
}
